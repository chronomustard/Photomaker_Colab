{
  "cells": [
    {
      "cell_type": "code",
      "execution_count": null,
      "metadata": {
        "id": "Ump-8qQFJJ5A"
      },
      "outputs": [],
      "source": [
        "from google.colab import drive\n",
        "\n",
        "drive.mount('/content/gdrive')"
      ]
    },
    {
      "cell_type": "code",
      "execution_count": null,
      "metadata": {
        "id": "8n6rbCmd-XoV"
      },
      "outputs": [],
      "source": [
        "!pip install git+https://github.com/TencentARC/PhotoMaker.git\n",
        "!git clone https://github.com/TencentARC/PhotoMaker.git"
      ]
    },
    {
      "cell_type": "code",
      "execution_count": null,
      "metadata": {
        "id": "dL4NlDjQiUD5"
      },
      "outputs": [],
      "source": [
        "!pip install -r /content/PhotoMaker/requirements.txt"
      ]
    },
    {
      "cell_type": "code",
      "execution_count": null,
      "metadata": {
        "id": "K78hko9lL8qA"
      },
      "outputs": [],
      "source": [
        "cd /content"
      ]
    },
    {
      "cell_type": "code",
      "execution_count": null,
      "metadata": {
        "id": "1HncjVp_kFWN"
      },
      "outputs": [],
      "source": [
        "cd PhotoMaker/"
      ]
    },
    {
      "cell_type": "code",
      "execution_count": null,
      "metadata": {
        "id": "OuIpiVcA-CN0"
      },
      "outputs": [],
      "source": [
        "import torch\n",
        "import numpy as np\n",
        "import random\n",
        "import os\n",
        "from PIL import Image\n",
        "\n",
        "from diffusers.utils import load_image\n",
        "from diffusers import EulerDiscreteScheduler, DDIMScheduler\n",
        "from huggingface_hub import hf_hub_download\n",
        "\n",
        "from photomaker import PhotoMakerStableDiffusionXLPipeline"
      ]
    },
    {
      "cell_type": "code",
      "execution_count": null,
      "metadata": {
        "id": "9uAnuLPI-CN1"
      },
      "outputs": [],
      "source": [
        "# gloal variable and function\n",
        "def image_grid(imgs, rows, cols, size_after_resize):\n",
        "    assert len(imgs) == rows*cols\n",
        "\n",
        "    w, h = size_after_resize, size_after_resize\n",
        "\n",
        "    grid = Image.new('RGB', size=(cols*w, rows*h))\n",
        "    grid_w, grid_h = grid.size\n",
        "\n",
        "    for i, img in enumerate(imgs):\n",
        "        img = img.resize((w,h))\n",
        "        grid.paste(img, box=(i%cols*w, i//cols*h))\n",
        "    return grid\n",
        "\n",
        "base_model_path = 'SG161222/RealVisXL_V3.0'\n",
        "device = \"cuda\"\n",
        "save_path = \"./outputs\""
      ]
    },
    {
      "cell_type": "code",
      "execution_count": null,
      "metadata": {
        "id": "wSfd7UzLEgKd"
      },
      "outputs": [],
      "source": [
        "from huggingface_hub import hf_hub_download\n",
        "\n",
        "photomaker_ckpt = hf_hub_download(repo_id=\"TencentARC/PhotoMaker\", filename=\"photomaker-v1.bin\", repo_type=\"model\")\n",
        "\n",
        "pipe = PhotoMakerStableDiffusionXLPipeline.from_pretrained(\n",
        "    base_model_path,\n",
        "    torch_dtype=torch.bfloat16,\n",
        "    use_safetensors=True,\n",
        "    variant=\"fp16\",\n",
        ").to(device)\n",
        "\n",
        "pipe.load_photomaker_adapter(\n",
        "    os.path.dirname(photomaker_ckpt),\n",
        "    subfolder=\"\",\n",
        "    weight_name=os.path.basename(photomaker_ckpt),\n",
        "    trigger_word=\"img\"\n",
        ")\n",
        "pipe.id_encoder.to(device)\n",
        "\n",
        "\n",
        "#pipe.scheduler = EulerDiscreteScheduler.from_config(pipe.scheduler.config)\n",
        "#pipe.fuse_lora()\n",
        "\n",
        "pipe.scheduler = DDIMScheduler.from_config(pipe.scheduler.config)\n",
        "# pipe.set_adapters([\"photomaker\"], adapter_weights=[1.0])\n",
        "pipe.fuse_lora()"
      ]
    },
    {
      "cell_type": "code",
      "execution_count": null,
      "metadata": {
        "id": "oR025U7R-CN2"
      },
      "outputs": [],
      "source": [
        "# define and show the input ID images\n",
        "input_folder_name = '/content/gdrive/MyDrive/YourDrive'\n",
        "image_basename_list = os.listdir(input_folder_name)\n",
        "image_path_list = sorted([os.path.join(input_folder_name, basename) for basename in image_basename_list])\n",
        "\n",
        "input_id_images = []\n",
        "for image_path in image_path_list:\n",
        "    input_id_images.append(load_image(image_path))\n",
        "\n",
        "input_grid = image_grid(input_id_images, 1, 10, size_after_resize=224)\n",
        "print(\"Input ID images:\")\n",
        "input_grid"
      ]
    },
    {
      "cell_type": "code",
      "execution_count": null,
      "metadata": {
        "id": "G_N2a903-CN2"
      },
      "outputs": [],
      "source": [
        "from numpy import random\n",
        "\n",
        "## Note that the trigger word `img` must follow the class word for personalization\n",
        "prompt = \"photo of a woman img with brunette hair and small nose\"\n",
        "negative_prompt = \"nsfw, nude, naked, weird eyes, lowres, bad anatomy, bad hands, text, error, missing fingers, extra digit, fewer digits, cropped, worst quality, low quality, normal quality, jpeg artifacts, signature, watermark, username, blurry\"\n",
        "\n",
        "seedrr = random.randint(2147483647)\n",
        "print(\"Seed number: \", seedrr)\n",
        "generator = torch.Generator(device=device).manual_seed(1194686978)\n",
        "\n",
        "## Parameter setting\n",
        "num_steps = 45\n",
        "style_strength_ratio = 85\n",
        "start_merge_step = int(float(style_strength_ratio) / 100 * num_steps)\n",
        "if start_merge_step > 35:\n",
        "    start_merge_step = 35\n",
        "\n",
        "images = pipe(\n",
        "    prompt=prompt,\n",
        "    input_id_images=input_id_images,\n",
        "    negative_prompt=negative_prompt,\n",
        "    num_images_per_prompt=4,\n",
        "    num_inference_steps=num_steps,\n",
        "    start_merge_step=start_merge_step,\n",
        "    generator=generator,\n",
        ").images"
      ]
    },
    {
      "cell_type": "code",
      "execution_count": null,
      "metadata": {
        "colab": {
          "background_save": true
        },
        "id": "v-mcjpu6-CN2"
      },
      "outputs": [],
      "source": [
        "# Show and save the results\n",
        "## Downsample for visualization\n",
        "grid = image_grid(images, 1, 4, size_after_resize=512)\n",
        "\n",
        "os.makedirs(save_path, exist_ok=True)\n",
        "for idx, image in enumerate(images):\n",
        "    image.save(os.path.join(save_path, f\"photomaker_{idx:02d}.png\"))\n",
        "\n",
        "print(\"Results:\")\n",
        "grid"
      ]
    }
  ],
  "metadata": {
    "accelerator": "GPU",
    "colab": {
      "provenance": []
    },
    "kernelspec": {
      "display_name": "Python 3",
      "name": "python3"
    },
    "language_info": {
      "name": "python"
    }
  },
  "nbformat": 4,
  "nbformat_minor": 0
}
